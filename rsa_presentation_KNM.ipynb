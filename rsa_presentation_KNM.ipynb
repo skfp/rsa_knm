{
 "cells": [
  {
   "cell_type": "code",
   "execution_count": 1,
   "metadata": {},
   "outputs": [],
   "source": [
    "import string\n",
    "#string.ascii_lowercase  - all the letters of latin alphabet (lower)\n",
    "alphabet=list(string.ascii_uppercase)\n",
    "letter_blocks=[]\n",
    "for i in alphabet:\n",
    "    for j in alphabet:\n",
    "        letter_blocks.append(''.join([i,j]))\n",
    "number_blocks=range(1,len(letter_blocks)+1)"
   ]
  },
  {
   "cell_type": "code",
   "execution_count": 2,
   "metadata": {},
   "outputs": [],
   "source": [
    "def reversed_eucl(a,b):   #reversed (extended) euclidean algorithm\n",
    "#for given a,b it returns s1 satisfying s1=a^(-1) mod b, where a=e and b=((p-1)(q-1))\n",
    "    s1, s2 = 1, 0   \n",
    "    t1, t2 = 0, 1   \n",
    "    while b!=0:   \n",
    "        q = a//b    \n",
    "        r = a%b   \n",
    "        a, b = b, r     \n",
    "        s = s1-q*s2    \n",
    "        s1, s2 = s2, s      \n",
    "        t = t1-q*t2    \n",
    "        t1, t2 = t2, t    \n",
    "    return s1"
   ]
  },
  {
   "cell_type": "code",
   "execution_count": 3,
   "metadata": {},
   "outputs": [],
   "source": [
    "letter_block_len = 2"
   ]
  },
  {
   "cell_type": "code",
   "execution_count": 4,
   "metadata": {},
   "outputs": [],
   "source": [
    "def encoding(coded_text,n,e):\n",
    "    if len(coded_text)%2 == 1:\n",
    "        coded_text=''.join([coded_text,'X'])  #if text length is an odd number we add X to the text\n",
    "    letter_block_list=[]\n",
    "    number_block_list=[]\n",
    "    for i in range(0,int(len(coded_text)/2)):\n",
    "        block=coded_text[2*i:2*i+2]\n",
    "        letter_block_list.append(block)\n",
    "        number_block_list.append(str((letter_blocks.index(block)+1)**e%n).zfill(3))\n",
    "    return ''.join(number_block_list)"
   ]
  },
  {
   "cell_type": "code",
   "execution_count": 5,
   "metadata": {},
   "outputs": [],
   "source": [
    "def decoding(numbers,p,q,e):\n",
    "    n=p*q\n",
    "    d=reversed_eucl(e,(p-1)*(q-1))\n",
    "    letter_block_list=[]\n",
    "    number_block_list=[]\n",
    "    for i in range(0,int(len(numbers)/3)):\n",
    "        block=numbers[3*i:3*i+3]\n",
    "        number_block_list.append(block)\n",
    "        letter_block_list.append(letter_blocks[(int(block))**d%n-1])\n",
    "    return ''.join(letter_block_list)"
   ]
  },
  {
   "cell_type": "code",
   "execution_count": 6,
   "metadata": {},
   "outputs": [],
   "source": [
    "p=23 #prime number\n",
    "q=31 #prime number\n",
    "#p*q must be greater than 24**k, where k is the length of the blocks\n",
    "e=59\n",
    "#e must not divide ((p-1)*(q-1))\n",
    "numbers_code=encoding('ANNN',p*q,e)"
   ]
  },
  {
   "cell_type": "markdown",
   "metadata": {},
   "source": [
    "## Examples"
   ]
  },
  {
   "cell_type": "code",
   "execution_count": 7,
   "metadata": {},
   "outputs": [
    {
     "data": {
      "text/plain": [
       "'ANNN'"
      ]
     },
     "execution_count": 7,
     "metadata": {},
     "output_type": "execute_result"
    }
   ],
   "source": [
    "decoding(numbers_code,23,31,59)"
   ]
  },
  {
   "cell_type": "code",
   "execution_count": 8,
   "metadata": {},
   "outputs": [],
   "source": [
    "numbers_code=encoding('MATEMATYKA',17*41,21)"
   ]
  },
  {
   "cell_type": "code",
   "execution_count": 9,
   "metadata": {},
   "outputs": [
    {
     "data": {
      "text/plain": [
       "'MATEMATYKA'"
      ]
     },
     "execution_count": 9,
     "metadata": {},
     "output_type": "execute_result"
    }
   ],
   "source": [
    "decoding(numbers_code,17,41,21)"
   ]
  },
  {
   "cell_type": "code",
   "execution_count": 10,
   "metadata": {},
   "outputs": [],
   "source": [
    "numbers_code=encoding('PYTHON',19*47,29)"
   ]
  },
  {
   "cell_type": "code",
   "execution_count": 11,
   "metadata": {},
   "outputs": [
    {
     "data": {
      "text/plain": [
       "'PYTHON'"
      ]
     },
     "execution_count": 11,
     "metadata": {},
     "output_type": "execute_result"
    }
   ],
   "source": [
    "decoding(numbers_code,19,47,29)"
   ]
  },
  {
   "cell_type": "code",
   "execution_count": null,
   "metadata": {},
   "outputs": [],
   "source": []
  },
  {
   "cell_type": "code",
   "execution_count": null,
   "metadata": {},
   "outputs": [],
   "source": []
  },
  {
   "cell_type": "code",
   "execution_count": null,
   "metadata": {},
   "outputs": [],
   "source": []
  }
 ],
 "metadata": {
  "kernelspec": {
   "display_name": "Python 3",
   "language": "python",
   "name": "python3"
  },
  "language_info": {
   "codemirror_mode": {
    "name": "ipython",
    "version": 3
   },
   "file_extension": ".py",
   "mimetype": "text/x-python",
   "name": "python",
   "nbconvert_exporter": "python",
   "pygments_lexer": "ipython3",
   "version": "3.7.4"
  }
 },
 "nbformat": 4,
 "nbformat_minor": 2
}
